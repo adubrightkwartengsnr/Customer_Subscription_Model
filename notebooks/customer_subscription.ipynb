{
 "cells": [
  {
   "cell_type": "markdown",
   "metadata": {},
   "source": [
    "## Alphagoal Customer Subcription Model"
   ]
  },
  {
   "cell_type": "markdown",
   "metadata": {},
   "source": [
    "### Business Understanding\n",
    "\n",
    "#### Problem Statement\n",
    "Current marketing strategies often involve reaching out to a large pool of clients without a clear understanding of their likelihood to subscribe. This approach results in wasted resources and low conversion rates. A predictive model can provide a data-driven solution to identify potential subscribers more effectively.\n",
    "\n",
    "#### Objectives\n",
    "- The primary business goal is to enhance the effectiveness of marketing campaigns for term deposits by predicting the likelihood of a client subscribing to one. By leveraging operational data, the organization aims to target the most promising clients, thereby improving campaign efficiency, reducing costs, and increasing subscription rates.\n",
    "- The key objective is to create a machine learning model capable to predict whether a given customer will subscribe to a serveice or not based on his \n",
    "activitities.\n",
    "\n",
    "#### Key Stakeholders\n",
    "\n",
    "- Marketing  (End-Users of Product): Use insights from the model to design targeted marketing campaigns, optimize outreach efforts, and monitor campaign performance to increase subscription rates and ensure customer satisfaction.\n",
    "\n",
    "- Sales Team: Leverage model predictions to prioritize leads and improve follow-up efficiency to enhance client engagement and close deals effectively.\n",
    "\n",
    "- Data Science Team: Develop and maintain the predictive model. Collect, clean, and analyze data; build and validate the model; and provide actionable insights to ensure technical accuracy, scalability, and usability of the model.\n",
    "\n",
    "- IT and Data Engineering Team: Support system integration and data pipelines. Provide infrastructure, ensure data availability, and integrate the model into existing systems to maintain smooth technical operations and scalability.\n",
    "\n",
    "- Executive Management: Decision-makers and project sponsors. Define strategic objectives, allocate resources, and monitor project impact to align the project outcomes with business goals, such as cost reduction and revenue growth.\n",
    "\n",
    "#### Success Metrics\n",
    "- Business Success: Increase in term deposit subscriptions and reduced marketing costs.\n",
    "- Analytical Success: A predictive model with high accuracy, precision, and recall (90% or more) to identify potential subscribers.\n",
    "- Deployment Success: Integration of the predictive model into the marketing workflow to guide decision-making.\n",
    "\n",
    "#### Hypothesis Statement\n",
    "- **Null Hypothesis (H_0)**: The number of campaigns sent to a client does not significantly impact their likelihood of subscribing to a term deposit.\n",
    "- **Altenative Hypothesis(H_a)**: The number of campaigns sent to a client significantly impacts their likelihood of subscribing to a term deposit\n",
    "\n",
    "#### Business Questions\n",
    "1. How does the number of campaigns affect the likelihood of a client subscribing to a term deposit?\n",
    "2. What client characteristics (e.g., age, job, marital status, education) are most strongly associated with subscribing to a term deposit?\n",
    "3. Does the timing of the campaigns (e.g., contact day, month) influence subscription rates?\n",
    "4. Is there a diminishing return on additional campaigns (i.e., after a certain point, additional campaigns do not increase subscription rates)?\n",
    "5. How do past campaign outcomes (poutcome) affect the likelihood of subscription in future campaigns?\n",
    "\n",
    "#### Source of Data \n",
    "There are four datasets:  \n",
    "- bank-additional-full.csv with all examples (41188) and 20 inputs, ordered by date (from May 2008 to November 2010), very close to the data analyzed. \n",
    "- bank-additional.csv with 10% of the examples (4119), randomly selected from 1), and 20 inputs. \n",
    "- bank-full.csv with all examples and 17 inputs, ordered by date (older version of this dataset with less inputs).  \n",
    "- bank.csv with 10% of the examples and 17 inputs, randomly selected from 3 (older version of this dataset with less inputs).  \n",
    "git\n",
    "#### Data Dictionary\n",
    "\n",
    "\n",
    "| **Variable Name** | **Description**                                                  | **Data Type** | **Possible Values**                                                                                              |\n",
    "|--------------------|------------------------------------------------------------------|---------------|------------------------------------------------------------------------------------------------------------------|\n",
    "| **age**            | Age of the client                                               | Numeric       | Any positive integer (e.g., 18, 35, etc.)                                                                        |\n",
    "| **job**            | Type of job                                                     | Categorical   | \"admin.\", \"unknown\", \"unemployed\", \"management\", \"housemaid\", \"entrepreneur\", \"student\", \"blue-collar\", \"self-employed\", \"retired\", \"technician\", \"services\" |\n",
    "| **marital**        | Marital status of the client                                    | Categorical   | \"married\", \"divorced\", \"single\"                                                                                  |\n",
    "| **education**      | Level of education                                              | Categorical   | \"unknown\", \"secondary\", \"primary\", \"tertiary\"                                                                    |\n",
    "| **default**        | Has credit in default?                                          | Binary        | \"yes\", \"no\"                                                                                                      |\n",
    "| **balance**        | Average yearly balance of the client (in euros)                 | Numeric       | Any real number (e.g., -500, 0, 1500)                                                                            |\n",
    "| **housing**        | Does the client have a housing loan?                            | Binary        | \"yes\", \"no\"                                                                                                      |\n",
    "| **loan**           | Does the client have a personal loan?                           | Binary        | \"yes\", \"no\"                                                                                                      |\n",
    "| **contact**        | Contact communication type used                                 | Categorical   | \"unknown\", \"telephone\", \"cellular\"                                                                               |\n",
    "| **day**            | Last contact day of the month                                   | Numeric       | 1–31                                                                                                             |\n",
    "| **month**          | Last contact month of the year                                  | Categorical   | \"jan\", \"feb\", \"mar\", ..., \"nov\", \"dec\"                                                                           |\n",
    "| **duration**       | Duration of the last contact, in seconds                        | Numeric       | Any non-negative integer (e.g., 0, 120, 300)                                                                     |\n",
    "| **campaign**       | Number of contacts performed during this campaign               | Numeric       | Any positive integer (e.g., 1, 2, 10)                                                                            |\n",
    "| **pdays**          | Number of days since the client was last contacted in a previous campaign | Numeric       | -1 (not previously contacted), or any positive integer (e.g., 5, 30, etc.)                                       |\n",
    "| **previous**       | Number of contacts performed before this campaign               | Numeric       | Any non-negative integer (e.g., 0, 1, 5)                                                                         |\n",
    "| **poutcome**       | Outcome of the previous marketing campaign                      | Categorical   | \"unknown\", \"other\", \"failure\", \"success\"                                                                         |\n",
    "| **y**              | Target variable: has the client subscribed to a term deposit?   | Binary        | \"yes\", \"no\"                                                                                                      |\n",
    "\n"
   ]
  },
  {
   "cell_type": "markdown",
   "metadata": {},
   "source": [
    "#### Importations"
   ]
  },
  {
   "cell_type": "code",
   "execution_count": 1,
   "metadata": {},
   "outputs": [
    {
     "name": "stdout",
     "output_type": "stream",
     "text": [
      "hello\n"
     ]
    }
   ],
   "source": [
    "print(\"hello\")"
   ]
  },
  {
   "cell_type": "markdown",
   "metadata": {},
   "source": [
    "#### Data Understanding"
   ]
  },
  {
   "cell_type": "code",
   "execution_count": null,
   "metadata": {},
   "outputs": [],
   "source": []
  },
  {
   "cell_type": "code",
   "execution_count": null,
   "metadata": {},
   "outputs": [],
   "source": []
  },
  {
   "cell_type": "markdown",
   "metadata": {},
   "source": [
    "#### Data Preparation"
   ]
  },
  {
   "cell_type": "code",
   "execution_count": null,
   "metadata": {},
   "outputs": [],
   "source": []
  },
  {
   "cell_type": "code",
   "execution_count": null,
   "metadata": {},
   "outputs": [],
   "source": []
  },
  {
   "cell_type": "markdown",
   "metadata": {},
   "source": [
    "#### Modeling & Evaluation"
   ]
  },
  {
   "cell_type": "code",
   "execution_count": null,
   "metadata": {},
   "outputs": [],
   "source": []
  },
  {
   "cell_type": "code",
   "execution_count": null,
   "metadata": {},
   "outputs": [],
   "source": []
  },
  {
   "cell_type": "code",
   "execution_count": null,
   "metadata": {},
   "outputs": [],
   "source": []
  },
  {
   "cell_type": "markdown",
   "metadata": {},
   "source": [
    "#### Persist Model"
   ]
  }
 ],
 "metadata": {
  "kernelspec": {
   "display_name": "cust_sub",
   "language": "python",
   "name": "python3"
  },
  "language_info": {
   "codemirror_mode": {
    "name": "ipython",
    "version": 3
   },
   "file_extension": ".py",
   "mimetype": "text/x-python",
   "name": "python",
   "nbconvert_exporter": "python",
   "pygments_lexer": "ipython3",
   "version": "3.13.0"
  }
 },
 "nbformat": 4,
 "nbformat_minor": 2
}
